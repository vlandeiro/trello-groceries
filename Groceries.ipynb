{
 "cells": [
  {
   "cell_type": "code",
   "execution_count": 399,
   "metadata": {
    "collapsed": false
   },
   "outputs": [],
   "source": [
    "import trello\n",
    "import re\n",
    "import arrow\n",
    "\n",
    "from dateutil import tz\n",
    "from collections import defaultdict"
   ]
  },
  {
   "cell_type": "markdown",
   "metadata": {},
   "source": [
    "## Functions"
   ]
  },
  {
   "cell_type": "code",
   "execution_count": 462,
   "metadata": {
    "collapsed": false
   },
   "outputs": [],
   "source": [
    "def parse_qty(q):\n",
    "    re_frac = re.compile(r\"(\\d+.?\\d*)\\/(\\d+.?\\d*)\")\n",
    "    m = re_frac.match(q)\n",
    "    if m:\n",
    "        return float(m.group(1)) / float(m.group(2))\n",
    "    else:\n",
    "        try:\n",
    "            return float(q)\n",
    "        except ValueError as err:\n",
    "            return 0\n",
    "        \n",
    "def empty_ingredients():\n",
    "    return defaultdict(lambda: defaultdict(float))\n",
    "\n",
    "def get_ingredients(card):\n",
    "    re_ing = re.compile(r\"\\- ([\\*\\w\\s\\(\\)]+)\\s?\\[?([\\d\\/]*\\s*\\w*)\\]?\")\n",
    "    d = card.desc.split('\\n')\n",
    "    try:\n",
    "        begin = d.index('# Ingredients')\n",
    "    except ValueError as err:\n",
    "        return []\n",
    "    if '# Instructions' in d:\n",
    "        end = d.index('# Instructions')\n",
    "        raw_ingredients = d[begin+1:end]\n",
    "    else:\n",
    "        raw_ingredients = d[begin+1:]\n",
    "    matches = [re_ing.match(i) for i in raw_ingredients]\n",
    "    tuples = [m.group(1,2) for m in matches if m is not None]\n",
    "    \n",
    "    # parse quantities\n",
    "    ingredients = empty_ingredients()\n",
    "    for ing, qty in tuples:\n",
    "        # skip ingredients starting with *\n",
    "        if ing[0] == '*':\n",
    "            continue\n",
    "        # case where no quantity is given\n",
    "        ing = ing.strip()\n",
    "        if not qty:\n",
    "            ingredients[ing]['count'] += 1\n",
    "        else:\n",
    "            qty = qty.strip()\n",
    "            qty_splits = qty.split()\n",
    "            # simple case\n",
    "            if len(qty_splits) == 1:\n",
    "                ingredients[ing]['count'] += parse_qty(qty)\n",
    "            # more complex case\n",
    "            else:\n",
    "                ingredients[ing][\" \".join(qty_splits[1:])] += parse_qty(qty_splits[0])\n",
    "    return ingredients\n",
    "\n",
    "def merge_ingredients(d1, d2):\n",
    "    d = d1.copy()\n",
    "    # add ingredients from d2 to d1\n",
    "    for ing, dict_qty in d2.items():\n",
    "        for qty_unit, qty_val in dict_qty.items():\n",
    "            d[ing][qty_unit] += qty_val\n",
    "    return d\n",
    "\n",
    "def day2ingredients(card, recipes):\n",
    "    ingredients = empty_ingredients()\n",
    "    meals = card.desc.split('\\n')\n",
    "    for meal in meals:\n",
    "        recipe_name = meal[2:]\n",
    "        if recipe_name in recipes:\n",
    "            recipe_card = recipes[meal[2:]]\n",
    "            ingredients = merge_ingredients(ingredients,get_ingredients(recipe_card))\n",
    "    return ingredients\n",
    "\n",
    "def week2ingredients(l, recipes):\n",
    "    ingredients = empty_ingredients()\n",
    "    for day in l.list_cards():\n",
    "        new_ingredients = day2ingredients(day, recipes)\n",
    "        ingredients = merge_ingredients(ingredients, new_ingredients)\n",
    "    return(ingredients)\n",
    "\n",
    "def ingredients2trello(ingredients, groceries):\n",
    "    str_time = arrow.now(tz=tz.gettz('US/Central')).format(\"MM/DD/YYYY @ HH:mm\")\n",
    "    card_name = 'List created %s' % str_time\n",
    "    card_desc = []\n",
    "    for ing, ing_qty in ingredients.items():\n",
    "        line = \"- %s: %s\" % (ing, \",\".join([\"%.2f %s\" % (qty, unit) for unit, qty in ing_qty.items()]))\n",
    "        card_desc.append(line)\n",
    "    c = groceries.add_card(card_name)\n",
    "    c.add_checklist('Groceries', card_desc)\n",
    "    c.set_pos(0)\n",
    "    \n",
    "def make_list_from_week(week, recipes, groceries):\n",
    "    week_ingredients = week2ingredients(week, recipes)\n",
    "    ingredients2trello(week_ingredients, groceries)"
   ]
  },
  {
   "cell_type": "code",
   "execution_count": 463,
   "metadata": {
    "collapsed": false
   },
   "outputs": [],
   "source": [
    "# Connect to Trellog and load board/lists/cards\n",
    "tc = trello.TrelloClient(api_key='',\n",
    "                         token='')\n",
    "food_board = tc.get_board('')\n",
    "# create dictionary to access a list using its name\n",
    "list_dict = {l.name.decode(): l for l in food_board.all_lists()}\n",
    "# create a dictionary to access a recipe using its name\n",
    "recipes = {c.name.decode(): c for c in list_dict['Recipes'].list_cards()}\n",
    "groceries = list_dict['Groceries List']"
   ]
  },
  {
   "cell_type": "code",
   "execution_count": 465,
   "metadata": {
    "collapsed": false
   },
   "outputs": [],
   "source": [
    "week = list_dict['Week']\n",
    "make_list_from_week(week, recipes, groceries)"
   ]
  }
 ],
 "metadata": {
  "kernelspec": {
   "display_name": "Python 3",
   "language": "python",
   "name": "python3"
  },
  "language_info": {
   "codemirror_mode": {
    "name": "ipython",
    "version": 3
   },
   "file_extension": ".py",
   "mimetype": "text/x-python",
   "name": "python",
   "nbconvert_exporter": "python",
   "pygments_lexer": "ipython3",
   "version": "3.5.1"
  }
 },
 "nbformat": 4,
 "nbformat_minor": 0
}
